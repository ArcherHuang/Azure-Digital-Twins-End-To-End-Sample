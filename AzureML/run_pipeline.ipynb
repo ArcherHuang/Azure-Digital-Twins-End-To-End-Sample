{
  "cells": [
    {
      "cell_type": "markdown",
      "metadata": {
        "nteract": {
          "transient": {
            "deleting": false
          }
        }
      },
      "source": [
        "# 安裝套件與確認 SDK 版本"
      ]
    },
    {
      "cell_type": "code",
      "execution_count": null,
      "metadata": {
        "gather": {
          "logged": 1680138231695
        }
      },
      "outputs": [],
      "source": [
        "import os\n",
        "import azureml.core\n",
        "from azureml.core import (\n",
        "    Workspace,\n",
        "    Experiment,\n",
        "    Dataset,\n",
        "    Datastore,\n",
        "    ComputeTarget,\n",
        "    Environment,\n",
        "    ScriptRunConfig\n",
        ")\n",
        "from azureml.data import OutputFileDatasetConfig\n",
        "from azureml.core.compute import AmlCompute\n",
        "from azureml.core.compute_target import ComputeTargetException\n",
        "from azureml.pipeline.steps import PythonScriptStep\n",
        "from azureml.pipeline.core import Pipeline\n",
        "from azureml.core.runconfig import RunConfiguration\n",
        "from azureml.core.conda_dependencies import CondaDependencies\n",
        "from azureml.pipeline.core import PublishedPipeline\n",
        "from azureml.pipeline.core import PipelineData\n",
        "\n",
        "print(f\"Azure ML SDK Version: {azureml.core.VERSION}\")"
      ]
    },
    {
      "cell_type": "markdown",
      "metadata": {
        "nteract": {
          "transient": {
            "deleting": false
          }
        }
      },
      "source": [
        "# 配置工作環境"
      ]
    },
    {
      "cell_type": "code",
      "execution_count": null,
      "metadata": {
        "gather": {
          "logged": 1680138236153
        },
        "jupyter": {
          "outputs_hidden": false,
          "source_hidden": false
        },
        "nteract": {
          "transient": {
            "deleting": false
          }
        }
      },
      "outputs": [],
      "source": [
        "workspace = Workspace.from_config()\n",
        "print(f\"workspace: {workspace}\")\n",
        "\n",
        "exp = Experiment(workspace=workspace, name=\"filmcheck-fashion\")"
      ]
    },
    {
      "cell_type": "markdown",
      "metadata": {
        "nteract": {
          "transient": {
            "deleting": false
          }
        }
      },
      "source": [
        "# 連接已有的 Blob"
      ]
    },
    {
      "cell_type": "code",
      "execution_count": 3,
      "metadata": {
        "gather": {
          "logged": 1680138239457
        },
        "jupyter": {
          "outputs_hidden": false,
          "source_hidden": false
        },
        "nteract": {
          "transient": {
            "deleting": false
          }
        }
      },
      "outputs": [],
      "source": [
        "from azureml.core import Datastore\n",
        "blob_datastore_name = 'filmcheck'\n",
        "blob_account_name= ''\n",
        "blob_account_key = ''\n",
        "blob_container_name = ''\n",
        "blob_datastore = Datastore.register_azure_blob_container(workspace=workspace, \n",
        "                                                         datastore_name=blob_datastore_name, \n",
        "                                                         container_name=blob_container_name, \n",
        "                                                         account_name=blob_account_name,\n",
        "                                                         account_key=blob_account_key)"
      ]
    },
    {
      "cell_type": "markdown",
      "metadata": {
        "nteract": {
          "transient": {
            "deleting": false
          }
        }
      },
      "source": [
        "# 建立運算叢集"
      ]
    },
    {
      "cell_type": "code",
      "execution_count": null,
      "metadata": {
        "gather": {
          "logged": 1680138243477
        },
        "jupyter": {
          "outputs_hidden": false,
          "source_hidden": false
        },
        "nteract": {
          "transient": {
            "deleting": false
          }
        }
      },
      "outputs": [],
      "source": [
        "cluster_name = \"cpu-cluster-4core\"\n",
        "\n",
        "found = False\n",
        "\n",
        "cts = workspace.compute_targets\n",
        "if cluster_name in cts and cts[cluster_name].type == \"AmlCompute\":\n",
        "    found = True\n",
        "    print(\"Found existing compute target.\")\n",
        "    compute_target = cts[cluster_name]\n",
        "if not found:\n",
        "    print(\"Creating a new compute target...\")\n",
        "    compute_config = AmlCompute.provisioning_configuration(\n",
        "        vm_size= \"STANDARD_DS3_V2\",\n",
        "        max_nodes=1,\n",
        "    )\n",
        "    compute_target = ComputeTarget.create(workspace, cluster_name, compute_config)\n",
        "    compute_target.wait_for_completion(\n",
        "        show_output=True, min_node_count=None, timeout_in_minutes=10\n",
        "    )"
      ]
    },
    {
      "cell_type": "markdown",
      "metadata": {
        "nteract": {
          "transient": {
            "deleting": false
          }
        }
      },
      "source": [
        "# 設定執行環境的 config"
      ]
    },
    {
      "cell_type": "code",
      "execution_count": null,
      "metadata": {
        "gather": {
          "logged": 1680220741290
        },
        "jupyter": {
          "outputs_hidden": false,
          "source_hidden": false
        },
        "nteract": {
          "transient": {
            "deleting": false
          }
        }
      },
      "outputs": [],
      "source": [
        "run_config = RunConfiguration()\n",
        "run_config.environment.docker.enabled = True\n",
        "conda = CondaDependencies()\n",
        "conda.add_pip_package('azureml-sdk[automl]')\n",
        "conda.add_pip_package('opencv-python-headless')\n",
        "run_config.environment.python.conda_dependencies = conda"
      ]
    },
    {
      "cell_type": "markdown",
      "metadata": {
        "nteract": {
          "transient": {
            "deleting": false
          }
        }
      },
      "source": [
        "# 建立 Python 腳本步驟"
      ]
    },
    {
      "cell_type": "code",
      "execution_count": null,
      "metadata": {
        "gather": {
          "logged": 1680138250351
        },
        "jupyter": {
          "outputs_hidden": false,
          "source_hidden": false
        },
        "nteract": {
          "transient": {
            "deleting": false
          }
        }
      },
      "outputs": [],
      "source": [
        "datastore = workspace.get_default_datastore()\n",
        "processed_data = PipelineData('processed_data', datastore=datastore)\n",
        "\n",
        "script_folder = \"./pipeline-python\"\n",
        "\n",
        "prep_step = PythonScriptStep(\n",
        "    name=\"go step\",\n",
        "    script_name=\"go.py\",\n",
        "    arguments=[\n",
        "        \"--output_path\", processed_data,\n",
        "        \"--blob_datastore_name\", blob_datastore_name,\n",
        "        \"--blob_account_name\", blob_account_name,\n",
        "        \"--blob_account_key\", blob_account_key,\n",
        "        \"--blob_container_name\", blob_container_name,\n",
        "    ],\n",
        "    outputs=[processed_data],\n",
        "    source_directory=script_folder,\n",
        "    compute_target=compute_target,\n",
        "    runconfig=run_config,\n",
        "    allow_reuse=False,\n",
        ")\n",
        "\n",
        "pipeline = Pipeline(workspace, steps=[prep_step])\n",
        "print(\"Pipeline is built\")"
      ]
    },
    {
      "cell_type": "markdown",
      "metadata": {
        "nteract": {
          "transient": {
            "deleting": false
          }
        }
      },
      "source": [
        "# 部署成 pipeline 與儲存 pipeline ID"
      ]
    },
    {
      "cell_type": "code",
      "execution_count": null,
      "metadata": {
        "gather": {
          "logged": 1680138255572
        },
        "jupyter": {
          "outputs_hidden": false,
          "source_hidden": false
        },
        "nteract": {
          "transient": {
            "deleting": false
          }
        }
      },
      "outputs": [],
      "source": [
        "published_pipeline = pipeline.publish(name=\"blob-trigger-pipeline\", description=\"blob-trigger-pipeline\", continue_on_step_failure=True)\n",
        "open('pipeline.id', 'w').write(published_pipeline.id)"
      ]
    }
  ],
  "metadata": {
    "kernel_info": {
      "name": "python38-azureml"
    },
    "kernelspec": {
      "display_name": "Python 3.8 - AzureML",
      "language": "python",
      "name": "python38-azureml"
    },
    "language_info": {
      "codemirror_mode": {
        "name": "ipython",
        "version": 3
      },
      "file_extension": ".py",
      "mimetype": "text/x-python",
      "name": "python",
      "nbconvert_exporter": "python",
      "pygments_lexer": "ipython3",
      "version": "3.8.10"
    },
    "microsoft": {
      "host": {
        "AzureML": {
          "notebookHasBeenCompleted": true
        }
      },
      "ms_spell_check": {
        "ms_spell_check_language": "en"
      }
    },
    "nteract": {
      "version": "nteract-front-end@1.0.0"
    }
  },
  "nbformat": 4,
  "nbformat_minor": 2
}
