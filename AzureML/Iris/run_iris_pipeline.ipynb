{
  "cells": [
    {
      "cell_type": "markdown",
      "metadata": {
        "nteract": {
          "transient": {
            "deleting": false
          }
        }
      },
      "source": [
        "# 安裝套件與確認 SDK 版本"
      ]
    },
    {
      "cell_type": "code",
      "execution_count": 1,
      "metadata": {
        "gather": {
          "logged": 1679616972216
        },
        "jupyter": {
          "outputs_hidden": false,
          "source_hidden": false
        },
        "nteract": {
          "transient": {
            "deleting": false
          }
        }
      },
      "outputs": [
        {
          "name": "stdout",
          "output_type": "stream",
          "text": [
            "Azure ML SDK Version:  1.48.0\n"
          ]
        }
      ],
      "source": [
        "import os\n",
        "import azureml.core\n",
        "from azureml.core import (\n",
        "    Workspace,\n",
        "    Experiment,\n",
        "    Dataset,\n",
        "    Datastore,\n",
        "    ComputeTarget,\n",
        "    Environment,\n",
        "    ScriptRunConfig\n",
        ")\n",
        "from azureml.data import OutputFileDatasetConfig\n",
        "from azureml.core.compute import AmlCompute\n",
        "from azureml.core.compute_target import ComputeTargetException\n",
        "from azureml.pipeline.steps import PythonScriptStep\n",
        "from azureml.pipeline.core import Pipeline\n",
        "from azureml.core.runconfig import RunConfiguration\n",
        "from azureml.core.conda_dependencies import CondaDependencies\n",
        "from azureml.pipeline.core import PublishedPipeline\n",
        "from azureml.pipeline.core import PipelineData\n",
        "\n",
        "# check core SDK version number\n",
        "print(\"Azure ML SDK Version: \", azureml.core.VERSION)"
      ]
    },
    {
      "cell_type": "markdown",
      "metadata": {
        "nteract": {
          "transient": {
            "deleting": false
          }
        }
      },
      "source": [
        "# 配置工作環境"
      ]
    },
    {
      "cell_type": "code",
      "execution_count": 2,
      "metadata": {
        "gather": {
          "logged": 1679616990231
        },
        "jupyter": {
          "outputs_hidden": false,
          "source_hidden": false
        },
        "nteract": {
          "transient": {
            "deleting": false
          }
        }
      },
      "outputs": [
        {
          "name": "stdout",
          "output_type": "stream",
          "text": [
            "workspace: Workspace.create(name='adt-3d', subscription_id='095c17da-056e-43f2-8d52-a30d1bdb6423', resource_group='adt-3d')\n"
          ]
        }
      ],
      "source": [
        "workspace = Workspace.from_config()\n",
        "print(f\"workspace: {workspace}\")\n",
        "\n",
        "exp = Experiment(workspace=workspace, name=\"iris-fashion\")"
      ]
    },
    {
      "cell_type": "markdown",
      "metadata": {
        "nteract": {
          "transient": {
            "deleting": false
          }
        }
      },
      "source": [
        "# 連接已有的 Blob"
      ]
    },
    {
      "cell_type": "code",
      "execution_count": 3,
      "metadata": {
        "gather": {
          "logged": 1679616998092
        },
        "jupyter": {
          "outputs_hidden": false,
          "source_hidden": false
        },
        "nteract": {
          "transient": {
            "deleting": false
          }
        }
      },
      "outputs": [],
      "source": [
        "from azureml.core import Datastore\n",
        "blob_datastore_name = 'iris'\n",
        "blob_account_name= ''\n",
        "blob_account_key = ''\n",
        "blob_container_name = 'datasets'\n",
        "blob_datastore = Datastore.register_azure_blob_container(workspace=workspace, \n",
        "                                                         datastore_name=blob_datastore_name, \n",
        "                                                         container_name=blob_container_name, \n",
        "                                                         account_name=blob_account_name,\n",
        "                                                         account_key=blob_account_key)"
      ]
    },
    {
      "cell_type": "markdown",
      "metadata": {
        "nteract": {
          "transient": {
            "deleting": false
          }
        }
      },
      "source": [
        "# 建立運算叢集"
      ]
    },
    {
      "cell_type": "code",
      "execution_count": 4,
      "metadata": {
        "gather": {
          "logged": 1679617016226
        },
        "jupyter": {
          "outputs_hidden": false,
          "source_hidden": false
        },
        "nteract": {
          "transient": {
            "deleting": false
          }
        }
      },
      "outputs": [
        {
          "name": "stdout",
          "output_type": "stream",
          "text": [
            "Creating a new compute target...\n",
            "InProgress..\n",
            "SucceededProvisioning operation finished, operation \"Succeeded\"\n",
            "Succeeded\n",
            "AmlCompute wait for completion finished\n",
            "\n",
            "Minimum number of nodes requested have been provisioned\n"
          ]
        }
      ],
      "source": [
        "cluster_name = \"cpu-cluster-4core\"\n",
        "\n",
        "found = False\n",
        "\n",
        "cts = workspace.compute_targets\n",
        "if cluster_name in cts and cts[cluster_name].type == \"AmlCompute\":\n",
        "    found = True\n",
        "    print(\"Found existing compute target.\")\n",
        "    compute_target = cts[cluster_name]\n",
        "if not found:\n",
        "    print(\"Creating a new compute target...\")\n",
        "    compute_config = AmlCompute.provisioning_configuration(\n",
        "        vm_size= \"STANDARD_DS3_V2\",\n",
        "        max_nodes=1,\n",
        "    )\n",
        "    compute_target = ComputeTarget.create(workspace, cluster_name, compute_config)\n",
        "    compute_target.wait_for_completion(\n",
        "        show_output=True, min_node_count=None, timeout_in_minutes=10\n",
        "    )"
      ]
    },
    {
      "cell_type": "markdown",
      "metadata": {
        "nteract": {
          "transient": {
            "deleting": false
          }
        }
      },
      "source": [
        "# 設定執行環境的 config"
      ]
    },
    {
      "cell_type": "code",
      "execution_count": 5,
      "metadata": {
        "gather": {
          "logged": 1679617021481
        },
        "jupyter": {
          "outputs_hidden": false,
          "source_hidden": false
        },
        "nteract": {
          "transient": {
            "deleting": false
          }
        }
      },
      "outputs": [
        {
          "name": "stderr",
          "output_type": "stream",
          "text": [
            "'enabled' is deprecated. Please use the azureml.core.runconfig.DockerConfiguration object with the 'use_docker' param instead.\n"
          ]
        }
      ],
      "source": [
        "run_config = RunConfiguration()\n",
        "run_config.environment.docker.enabled = True\n",
        "conda = CondaDependencies()\n",
        "conda.add_pip_package('azureml-sdk[automl]')\n",
        "conda.add_pip_package('opencv-python-headless')\n",
        "conda.add_pip_package('tensorflow')\n",
        "run_config.environment.python.conda_dependencies = conda"
      ]
    },
    {
      "cell_type": "code",
      "execution_count": 6,
      "metadata": {
        "gather": {
          "logged": 1679617033757
        },
        "jupyter": {
          "outputs_hidden": false,
          "source_hidden": false
        },
        "nteract": {
          "transient": {
            "deleting": false
          }
        }
      },
      "outputs": [
        {
          "data": {
            "text/plain": [
              "{\n",
              "  \"source\": [\n",
              "    \"('iris', 'test/*')\"\n",
              "  ],\n",
              "  \"definition\": [\n",
              "    \"GetDatastoreFiles\"\n",
              "  ],\n",
              "  \"registration\": {\n",
              "    \"id\": \"99cf48c7-9ebd-4cfb-a843-8075d763b4c0\",\n",
              "    \"name\": \"IrisTestFileData\",\n",
              "    \"version\": 1,\n",
              "    \"workspace\": \"Workspace.create(name='adt-3d', subscription_id='095c17da-056e-43f2-8d52-a30d1bdb6423', resource_group='adt-3d')\"\n",
              "  }\n",
              "}"
            ]
          },
          "execution_count": 6,
          "metadata": {},
          "output_type": "execute_result"
        }
      ],
      "source": [
        "from azureml.data.datapath import DataPath\n",
        "\n",
        "# Get Iris Datastore\n",
        "source_datastore = Datastore.get(workspace, 'iris')\n",
        "\n",
        "# Register training Dataset\n",
        "iris_training_datastore_path = [DataPath(source_datastore, 'training/*')]\n",
        "iris_training_ds = Dataset.File.from_files(path=iris_training_datastore_path)\n",
        "iris_training_ds.register(workspace, \"IrisTrainingFileData\", create_new_version=True)\n",
        "\n",
        "# Register training Dataset\n",
        "iris_test_datastore_path = [DataPath(source_datastore, 'test/*')]\n",
        "iris_test_ds = Dataset.File.from_files(path=iris_test_datastore_path)\n",
        "iris_test_ds.register(workspace, \"IrisTestFileData\", create_new_version=True)"
      ]
    },
    {
      "cell_type": "markdown",
      "metadata": {
        "nteract": {
          "transient": {
            "deleting": false
          }
        }
      },
      "source": [
        "# 建立 Python 腳本步驟"
      ]
    },
    {
      "cell_type": "code",
      "execution_count": 49,
      "metadata": {
        "gather": {
          "logged": 1679621184729
        },
        "jupyter": {
          "outputs_hidden": false,
          "source_hidden": false
        },
        "nteract": {
          "transient": {
            "deleting": false
          }
        }
      },
      "outputs": [
        {
          "name": "stdout",
          "output_type": "stream",
          "text": [
            "Pipeline is built\n",
            "Step go step1 is ready to be created [21226af9]\n"
          ]
        },
        {
          "data": {
            "text/plain": [
              "[]"
            ]
          },
          "execution_count": 49,
          "metadata": {},
          "output_type": "execute_result"
        }
      ],
      "source": [
        "from azureml.pipeline.core import PipelineParameter\n",
        "from azureml.data.datapath import DataPath, DataPathComputeBinding\n",
        "from azureml.data.data_reference import DataReference\n",
        "from azureml.core import Dataset\n",
        "\n",
        "datastore = workspace.get_default_datastore()\n",
        "step1_processed_data = PipelineData('step1_processed_data', datastore=datastore)\n",
        "\n",
        "# Get Iris Datastore\n",
        "source_datastore = Datastore.get(workspace, 'iris')\n",
        "\n",
        "# Mount - Start\n",
        "datasets = Dataset.get_all(workspace)\n",
        "if not 'IrisTrainingFileData' in datasets:\n",
        "    # Register training Dataset\n",
        "    iris_training_datastore_path = [DataPath(source_datastore, 'training/*')]\n",
        "    iris_training_ds = Dataset.File.from_files(path=iris_training_datastore_path)\n",
        "    iris_training_ds.register(workspace, \"IrisTrainingFileData\", create_new_version=True)\n",
        "\n",
        "if not 'IrisTestFileData' in datasets:\n",
        "    # Register training Dataset\n",
        "    iris_test_datastore_path = [DataPath(source_datastore, 'test/*')]\n",
        "    iris_test_ds = Dataset.File.from_files(path=iris_test_datastore_path)\n",
        "    iris_test_ds.register(workspace, \"IrisTestFileData\", create_new_version=True)\n",
        "\n",
        "fileIrisTrainingData = Dataset.get_by_name(workspace, 'IrisTrainingFileData')\n",
        "fileIrisTestData = Dataset.get_by_name(workspace, 'IrisTestFileData')\n",
        "# Mount - End\n",
        "\n",
        "script_folder = \"./pipeline-python\"\n",
        "dataset_training_path = \"/tmp/dataset/iris/training\"\n",
        "dataset_test_path = \"/tmp/dataset/iris/test\"\n",
        "\n",
        "step1 = PythonScriptStep(\n",
        "    name=\"go step1\",\n",
        "    script_name=\"go_iris.py\",\n",
        "    arguments=[\n",
        "        \"--blob_datastore_name\", blob_datastore_name,\n",
        "        \"--blob_account_name\", blob_account_name,\n",
        "        \"--blob_account_key\", blob_account_key,\n",
        "        \"--blob_container_name\", blob_container_name,\n",
        "        \"--output_path\", step1_processed_data,\n",
        "        \"--dataset_training_path\", dataset_training_path,\n",
        "        \"--dataset_test_path\", dataset_test_path,\n",
        "    ],\n",
        "    inputs=[fileIrisTrainingData.as_named_input(\"Iris_Training_Files_mount\").as_mount(dataset_training_path),\n",
        "        fileIrisTestData.as_named_input(\"Iris_Test_Files_mount\").as_mount(dataset_test_path)],\n",
        "    outputs=[step1_processed_data],\n",
        "    source_directory=script_folder,\n",
        "    compute_target=compute_target,\n",
        "    runconfig=run_config,\n",
        "    allow_reuse=False,\n",
        ")\n",
        "\n",
        "pipeline = Pipeline(workspace, steps=[step1])\n",
        "print(\"Pipeline is built\")\n",
        "pipeline.validate()"
      ]
    },
    {
      "cell_type": "markdown",
      "metadata": {
        "nteract": {
          "transient": {
            "deleting": false
          }
        }
      },
      "source": [
        "# 部署成 pipeline 與儲存 pipeline ID"
      ]
    },
    {
      "cell_type": "code",
      "execution_count": 50,
      "metadata": {
        "gather": {
          "logged": 1679621190497
        },
        "jupyter": {
          "outputs_hidden": false,
          "source_hidden": false
        },
        "nteract": {
          "transient": {
            "deleting": false
          }
        }
      },
      "outputs": [
        {
          "name": "stdout",
          "output_type": "stream",
          "text": [
            "Created step go step1 [21226af9][d2ee047c-1055-44fd-a9d5-3de0c8df44b6], (This step will run and generate new outputs)\n"
          ]
        },
        {
          "data": {
            "text/plain": [
              "36"
            ]
          },
          "execution_count": 50,
          "metadata": {},
          "output_type": "execute_result"
        }
      ],
      "source": [
        "published_pipeline = pipeline.publish(name=\"iris-blob-trigger-pipeline\", description=\"iris-blob-trigger-pipeline\", continue_on_step_failure=True)\n",
        "open('pipeline.id', 'w').write(published_pipeline.id)"
      ]
    },
    {
      "cell_type": "markdown",
      "metadata": {
        "nteract": {
          "transient": {
            "deleting": false
          }
        }
      },
      "source": [
        "# 提交實驗"
      ]
    },
    {
      "cell_type": "code",
      "execution_count": 51,
      "metadata": {
        "gather": {
          "logged": 1679621194771
        },
        "jupyter": {
          "outputs_hidden": false,
          "source_hidden": false
        },
        "nteract": {
          "transient": {
            "deleting": false
          }
        }
      },
      "outputs": [
        {
          "name": "stdout",
          "output_type": "stream",
          "text": [
            "Created step go step1 [21226af9][83212acf-4953-4773-a5fd-194f944d569d], (This step will run and generate new outputs)\n",
            "Submitted PipelineRun a385bdf6-9584-48c6-a3e2-088474bdfb46\n",
            "Link to Azure Machine Learning Portal: https://ml.azure.com/runs/a385bdf6-9584-48c6-a3e2-088474bdfb46?wsid=/subscriptions/095c17da-056e-43f2-8d52-a30d1bdb6423/resourcegroups/adt-3d/workspaces/adt-3d&tid=c7f98dc5-2792-4fd7-bb88-7cb2506df48b\n"
          ]
        }
      ],
      "source": [
        "run = exp.submit(pipeline, regenerate_outputs=True)"
      ]
    }
  ],
  "metadata": {
    "kernel_info": {
      "name": "python38-azureml"
    },
    "kernelspec": {
      "display_name": "Python 3.8 - AzureML",
      "language": "python",
      "name": "python38-azureml"
    },
    "language_info": {
      "codemirror_mode": {
        "name": "ipython",
        "version": 3
      },
      "file_extension": ".py",
      "mimetype": "text/x-python",
      "name": "python",
      "nbconvert_exporter": "python",
      "pygments_lexer": "ipython3",
      "version": "3.8.10"
    },
    "microsoft": {
      "host": {
        "AzureML": {
          "notebookHasBeenCompleted": true
        }
      },
      "ms_spell_check": {
        "ms_spell_check_language": "en"
      }
    },
    "nteract": {
      "version": "nteract-front-end@1.0.0"
    }
  },
  "nbformat": 4,
  "nbformat_minor": 2
}
